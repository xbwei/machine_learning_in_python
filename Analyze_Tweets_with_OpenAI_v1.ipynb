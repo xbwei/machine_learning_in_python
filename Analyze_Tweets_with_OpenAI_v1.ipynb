{
 "cells": [
  {
   "cell_type": "markdown",
   "id": "7dc3883c",
   "metadata": {},
   "source": [
    "# Analyze Twitter Data with OpenAI V1"
   ]
  },
  {
   "cell_type": "markdown",
   "id": "3e679fb6",
   "metadata": {},
   "source": [
    "This notebook assumes that your Tweets were collected with Twitter API V1, or the Tweets are orgianzied as:\n",
    "```\n",
    "{\n",
    "id:123,\n",
    "text:'abc',\n",
    "...\n",
    "}\n",
    "\n",
    "```\n",
    "If you Tweets were collected with Twitter API V2 or organized in a different foramt, please use the code for [V2](https://github.com/xbwei/machine_learning_in_python/tree/master)."
   ]
  },
  {
   "cell_type": "markdown",
   "id": "dfcc5219",
   "metadata": {},
   "source": [
    "## Install Python libraries"
   ]
  },
  {
   "cell_type": "markdown",
   "id": "756e9eb5",
   "metadata": {},
   "source": [
    "We need the [pymongo](https://pypi.org/project/pymongo/) to manage the MongoDB database, and [openai](https://github.com/openai/openai-python) to call the OpenAI APIs."
   ]
  },
  {
   "cell_type": "code",
   "execution_count": null,
   "id": "e207189b",
   "metadata": {
    "scrolled": false
   },
   "outputs": [],
   "source": [
    "!pip install pymongo"
   ]
  },
  {
   "cell_type": "code",
   "execution_count": null,
   "id": "0779bc84",
   "metadata": {
    "scrolled": true
   },
   "outputs": [],
   "source": [
    "!pip install openai"
   ]
  },
  {
   "cell_type": "markdown",
   "id": "12530bd4",
   "metadata": {},
   "source": [
    "## Import Python libraries"
   ]
  },
  {
   "cell_type": "code",
   "execution_count": null,
   "id": "a7d944e5",
   "metadata": {},
   "outputs": [],
   "source": [
    "import pymongo\n",
    "from pymongo import MongoClient\n",
    "import json\n",
    "from pprint import pprint\n",
    "import configparser\n",
    "from tqdm.auto import tqdm\n",
    "import re"
   ]
  },
  {
   "cell_type": "markdown",
   "id": "b17f430f",
   "metadata": {},
   "source": [
    "## Load the authorization info"
   ]
  },
  {
   "cell_type": "markdown",
   "id": "52260a80",
   "metadata": {},
   "source": [
    "Save the database connection info and API key in a config.ini file and use the configparse to load the authorization info.\n",
    "\n",
    "The config.ini file should look like:\n",
    "``` \n",
    "[myopenai]\n",
    "openai_api = <your openai API>\n",
    "\n",
    "[mymongo]\n",
    "connection = <your monogdb connection>\n",
    "```\n"
   ]
  },
  {
   "cell_type": "code",
   "execution_count": null,
   "id": "d56a489b",
   "metadata": {},
   "outputs": [],
   "source": [
    "config = configparser.ConfigParser(interpolation=None)\n",
    "config.read('config.ini')\n",
    "\n",
    "openai_api_key   = config['myopenai']['openai_api']\n",
    "\n",
    "mongod_connect = config['mymongo']['connection']"
   ]
  },
  {
   "cell_type": "markdown",
   "id": "4c50e000",
   "metadata": {},
   "source": [
    "## Connect to the MongoDB cluster"
   ]
  },
  {
   "cell_type": "markdown",
   "id": "2d694834",
   "metadata": {},
   "source": [
    "We will connect to the MongoDB database that contains the tweet data. You need to change the database name and collection name to match your settings."
   ]
  },
  {
   "cell_type": "code",
   "execution_count": null,
   "id": "9102f89f",
   "metadata": {},
   "outputs": [],
   "source": [
    "client = MongoClient(mongod_connect)\n",
    "db = client.tweet # use or create a database named tweet\n",
    "tweet_collection = db.gun_va #use or create a collection named gun_va\n"
   ]
  },
  {
   "cell_type": "markdown",
   "id": "a4e6941d",
   "metadata": {},
   "source": [
    "## Extract Twitter Data"
   ]
  },
  {
   "cell_type": "markdown",
   "id": "b0099a8b",
   "metadata": {},
   "source": [
    "Search the Tweets you are intrested.\n",
    "You can use [MongoDB Compass](https://www.mongodb.com/try/download/compass) to help you write the queries."
   ]
  },
  {
   "cell_type": "code",
   "execution_count": null,
   "id": "8420470a",
   "metadata": {},
   "outputs": [],
   "source": [
    "'''\n",
    "The following code is generated in MongoDB Compass to find the top 100 tweets \n",
    "with a key word of 'shooting', ordered by the favorite count\n",
    "'''\n",
    "filter={\n",
    "    '$text': {\n",
    "        '$search': 'shooting'\n",
    "    }\n",
    "}\n",
    "project={\n",
    "    'id': 1, \n",
    "    'text': 1\n",
    "}\n",
    "sort=list({\n",
    "    'favorite_count': -1\n",
    "}.items())\n",
    "limit=100\n",
    "result = client['tweet']['gun_va'].find(\n",
    "  filter=filter,\n",
    "  projection=project,\n",
    "  sort=sort,\n",
    "  limit=limit\n",
    ")"
   ]
  },
  {
   "cell_type": "markdown",
   "id": "76637a42",
   "metadata": {},
   "source": [
    "Save the extracted Tweets into the ```tweet_data``` list. Remove URLs and new lines to save the tokens. "
   ]
  },
  {
   "cell_type": "code",
   "execution_count": null,
   "id": "4f7dbaff",
   "metadata": {},
   "outputs": [],
   "source": [
    "tweet_data = []\n",
    "url_pattern = r'http[s]?://(?:[a-zA-Z]|[0-9]|[$-_@.&+]|[!*\\\\(\\\\),]|(?:%[0-9a-fA-F][0-9a-fA-F]))+'\n",
    "for tweet in result:\n",
    "    text_without_urls = re.sub(url_pattern, '', tweet['text'])\n",
    "    tweet_data.append({'tweet_id':tweet['id'],'tweet_text':text_without_urls.replace('\\n','')})"
   ]
  },
  {
   "cell_type": "code",
   "execution_count": null,
   "id": "26b9f24a",
   "metadata": {
    "scrolled": false
   },
   "outputs": [],
   "source": [
    "print('Number of tweets: ',len(tweet_data))"
   ]
  },
  {
   "cell_type": "markdown",
   "id": "5d0764c0",
   "metadata": {},
   "source": [
    "## Set up OpenAI API"
   ]
  },
  {
   "cell_type": "markdown",
   "id": "641989e5",
   "metadata": {},
   "source": [
    "Load the OpenAI API key and set the API parameters. \n",
    "- Model type: use ```gpt-3.5-turbo``` by default, and you choose any [avaiabel models](https://platform.openai.com/docs/models/overview).\n",
    "- Token estimate: 100 tokens ~= 75 words in English. Total token usage = tokens in the prompot + tokens in the completion. You can get a more accurate estimate at [Tokenier](https://platform.openai.com/tokenizer).\n",
    "- Temperature: use default value 0. Lower temperature result in more consistent outputs, while higher values generate more diverse and creative results\n",
    "\n",
    "A help funciton, ```openai_help```, is created to pass the prompt."
   ]
  },
  {
   "cell_type": "code",
   "execution_count": null,
   "id": "d1235902",
   "metadata": {},
   "outputs": [],
   "source": [
    "from openai import OpenAI\n",
    "client = OpenAI(api_key=openai_api_key)\n",
    "model=\"gpt-3.5-turbo\"\n",
    "temperature=0\n",
    "\n",
    "\n",
    "\n",
    "def openai_help(prompt, model=model, temperature =temperature ):\n",
    "    messages = [{\"role\": \"user\", \"content\": prompt}]\n",
    "    response = client.chat.completions.create(\n",
    "        model=model,\n",
    "        messages=messages,\n",
    "        temperature=temperature\n",
    "\n",
    "    )\n",
    "    return response.choices[0].message.content"
   ]
  },
  {
   "cell_type": "markdown",
   "id": "fb1564c1",
   "metadata": {},
   "source": [
    "## Sentiment anlysis"
   ]
  },
  {
   "cell_type": "markdown",
   "id": "7f10f947",
   "metadata": {},
   "source": [
    "Analyze the sentiment of each tweet and save the result to the MongoDB database."
   ]
  },
  {
   "cell_type": "code",
   "execution_count": null,
   "id": "271cf78d",
   "metadata": {
    "scrolled": false
   },
   "outputs": [],
   "source": [
    "for tweet in tqdm(tweet_data):\n",
    "  \n",
    "    prompt = f\"\"\"\n",
    "    What is the sentiment of the following tweet, \n",
    "    tweet text: {tweet['tweet_text']}\n",
    "    return  the result with one word as positive, neutral,or negative\n",
    " \n",
    "    \"\"\"\n",
    "#     print(prompt)\n",
    "    try:\n",
    "        sentiment_result =openai_help(prompt)\n",
    "    #     print(sentiment_result)\n",
    "\n",
    "        tweet_collection.update_one(\n",
    "            {'id':tweet['tweet_id']},\n",
    "            {\"$set\":{'sentiment':sentiment_result}}\n",
    "        )\n",
    "    except:\n",
    "        pass\n"
   ]
  },
  {
   "cell_type": "markdown",
   "id": "12f57010",
   "metadata": {},
   "source": [
    "## Language translation "
   ]
  },
  {
   "cell_type": "markdown",
   "id": "5eae92b5",
   "metadata": {},
   "source": [
    "Translate each tweet into a different language, and save the result to the MongoDB database."
   ]
  },
  {
   "cell_type": "code",
   "execution_count": null,
   "id": "55bfe879",
   "metadata": {
    "scrolled": false
   },
   "outputs": [],
   "source": [
    "for tweet in tqdm(tweet_data):\n",
    "  \n",
    "    prompt = f\"\"\"\n",
    "    Translate the follwoing tweet into Chinese\n",
    "    tweet text: {tweet['tweet_text']}\n",
    " \n",
    "    \"\"\"\n",
    "#     print(prompt)\n",
    "    try:\n",
    "        translate_result =openai_help(prompt)\n",
    "#         print(translate_result)\n",
    "\n",
    "        tweet_collection.update_one(\n",
    "            {'id':tweet['tweet_id']},\n",
    "            {\"$set\":{'translate':translate_result}}\n",
    "        )\n",
    "    except:\n",
    "        pass\n"
   ]
  },
  {
   "cell_type": "markdown",
   "id": "20d4ae49",
   "metadata": {},
   "source": [
    "## Identify emotions"
   ]
  },
  {
   "cell_type": "markdown",
   "id": "84c81c2f",
   "metadata": {},
   "source": [
    "Identify whether a tweet expresses anger, and save the result to the MongoDB database."
   ]
  },
  {
   "cell_type": "code",
   "execution_count": null,
   "id": "6ee5457f",
   "metadata": {
    "scrolled": false
   },
   "outputs": [],
   "source": [
    "for tweet in tqdm(tweet_data):\n",
    "  \n",
    "    prompt = f\"\"\"\n",
    "    Does the following tweet express anger?\n",
    "    Provide the result as eitehr True or False.\n",
    "    tweet text: {tweet['tweet_text']}\n",
    " \n",
    "    \"\"\"\n",
    "#     print(prompt)\n",
    "    try:\n",
    "        emotion_result =openai_help(prompt)\n",
    "    #     print(emotion_result)\n",
    "\n",
    "        tweet_collection.update_one(\n",
    "                {'id':tweet['tweet_id']},\n",
    "                {\"$set\":{'anger':emotion_result}}\n",
    "            )\n",
    "    except:\n",
    "        pass\n"
   ]
  },
  {
   "cell_type": "markdown",
   "id": "41e8ffd0",
   "metadata": {},
   "source": [
    "## Extract entities"
   ]
  },
  {
   "cell_type": "markdown",
   "id": "24f3066f",
   "metadata": {},
   "source": [
    "Extract person and organzation names from each tweet and save the result to the MongoDB database. "
   ]
  },
  {
   "cell_type": "code",
   "execution_count": null,
   "id": "1c72c10d",
   "metadata": {
    "scrolled": false
   },
   "outputs": [],
   "source": [
    "for tweet in tqdm(tweet_data):\n",
    "  \n",
    "    prompt = f\"\"\"\n",
    "    Identify persons or organzations from the following tweet,\n",
    "    tweet text: {tweet['tweet_text']},\n",
    "    format the response as a JSON document with person and organzation as the keys.\n",
    "    If the information is not presented, use \"unknown\".\n",
    "    \"\"\"\n",
    "#     print(prompt)\n",
    "    try:\n",
    "        extract_result =openai_help(prompt)\n",
    "#         print(extract_result)\n",
    "\n",
    "        tweet_collection.update_one(\n",
    "                {'id':tweet['tweet_id']},\n",
    "                {\"$set\":{'extracted_item':json.loads(extract_result)}}\n",
    "                )\n",
    "    except:\n",
    "        pass"
   ]
  },
  {
   "cell_type": "markdown",
   "id": "364887f5",
   "metadata": {},
   "source": [
    "## Summarize"
   ]
  },
  {
   "cell_type": "markdown",
   "id": "d84fff0d",
   "metadata": {},
   "source": [
    "Summarize the tweet texts with a specific focus, and save the result to the MongoDB database.\n",
    "Due to the token limitation, 50 tweets are analyzed in each batch."
   ]
  },
  {
   "cell_type": "code",
   "execution_count": null,
   "id": "7ab3b7dd",
   "metadata": {
    "scrolled": false
   },
   "outputs": [],
   "source": [
    "# Define the batch size\n",
    "batch_size = 50\n",
    "\n",
    "start_index = 0\n",
    "\n",
    "\n",
    "while start_index < len(tweet_data):\n",
    "    batch = tweet_data[start_index:start_index + batch_size]\n",
    "\n",
    "    tweet_id_list =[]\n",
    "    tweet_text_summary =''\n",
    "    \n",
    "    for tweet in batch:\n",
    "        tweet_id_list.append(tweet['tweet_id'])\n",
    "        tweet_text_summary = tweet_text_summary+'.'+tweet['tweet_text']\n",
    "        \n",
    "    prompt = f\"\"\"\n",
    "    Summarize the following tweets in at most 50 words, \n",
    "    and focusing why people oppose gun control\n",
    "    tweet text: {tweet_text_summary,}\n",
    " \n",
    "    \"\"\"\n",
    "#     print(prompt)\n",
    "    try:\n",
    "        summary_result =openai_help(prompt)\n",
    "        \n",
    "        tweet_summary = db.tweet_summary #use or create a collection named gun_va\n",
    "        tweet_summary.insert_one({'id_list':tweet_id_list,\n",
    "                            'tweet_text_summary':summary_result})\n",
    "        print(summary_result,'\\n')\n",
    "    except:\n",
    "        pass\n",
    "    start_index += batch_size"
   ]
  },
  {
   "cell_type": "code",
   "execution_count": null,
   "id": "88ea5f13",
   "metadata": {},
   "outputs": [],
   "source": []
  }
 ],
 "metadata": {
  "kernelspec": {
   "display_name": "conda_python3",
   "language": "python",
   "name": "conda_python3"
  },
  "language_info": {
   "codemirror_mode": {
    "name": "ipython",
    "version": 3
   },
   "file_extension": ".py",
   "mimetype": "text/x-python",
   "name": "python",
   "nbconvert_exporter": "python",
   "pygments_lexer": "ipython3",
   "version": "3.10.13"
  }
 },
 "nbformat": 4,
 "nbformat_minor": 5
}
